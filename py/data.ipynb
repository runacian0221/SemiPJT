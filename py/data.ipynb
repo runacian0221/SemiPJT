{
 "cells": [
  {
   "cell_type": "code",
   "execution_count": 3,
   "metadata": {},
   "outputs": [],
   "source": [
    "import pandas as pd\n",
    "\n",
    "df = pd.read_csv('./jobkorea_unique0.95.csv')\n",
    "\n",
    "# 기업별로 데이터 갯수를 계산\n",
    "company_counts = df.groupby('company').size().sort_values(ascending=False)\n",
    "\n",
    "# 결과를 txt 파일로 저장\n",
    "with open('company_counts.txt', 'w') as f:\n",
    "    for index, count in company_counts.items():\n",
    "        f.write(f'{index}: {count}\\n')\n"
   ]
  },
  {
   "cell_type": "code",
   "execution_count": 6,
   "metadata": {},
   "outputs": [],
   "source": [
    "import pandas as pd\n",
    "\n",
    "df = pd.read_csv('csv/jobkorea_question_labeled_mecab.csv')\n",
    "counts = df['company'].value_counts()\n",
    "under10 = counts[counts<10].index\n",
    "df = df.drop(df[df['company'].isin(under10)].index)\n",
    "\n",
    "df.to_csv('csv/mecab_over10.csv',index=False, encoding='UTF-8')"
   ]
  },
  {
   "cell_type": "code",
   "execution_count": 7,
   "metadata": {},
   "outputs": [],
   "source": [
    "import pandas as pd\n",
    "\n",
    "df = pd.read_csv('csv/jobkorea_question_labeled_okt.csv')\n",
    "counts = df['company'].value_counts()\n",
    "under10 = counts[counts<10].index\n",
    "df = df.drop(df[df['company'].isin(under10)].index)\n",
    "\n",
    "df.to_csv('csv/okt_over10.csv',index=False, encoding='UTF-8')"
   ]
  },
  {
   "cell_type": "code",
   "execution_count": 11,
   "metadata": {},
   "outputs": [],
   "source": [
    "import pandas as pd\n",
    "\n",
    "df = pd.read_csv('csv/mecab_over10.csv')\n",
    "\n",
    "# 기업별로 데이터 갯수를 계산\n",
    "company_counts = df.groupby('job').size().sort_values(ascending=False)\n",
    "\n",
    "\n",
    "with open('job_counts.txt', 'w') as f:\n",
    "    for index, count in company_counts.items():\n",
    "        f.write(f'{index}: {count}\\n')\n"
   ]
  },
  {
   "cell_type": "code",
   "execution_count": null,
   "metadata": {},
   "outputs": [],
   "source": [
    "import pandas as pd\n",
    "\n",
    "df = pd.read_csv('csv/mecab_over10.csv')\n",
    "counts = df['job'].value_counts()\n",
    "under10 = counts[counts<10].index\n",
    "df = df.drop(df[df['job'].isin(under10)].index)\n",
    "\n",
    "df.to_csv('csv/mecab_company_job_over10.csv',index=False, encoding='UTF-8')"
   ]
  },
  {
   "cell_type": "code",
   "execution_count": 13,
   "metadata": {},
   "outputs": [],
   "source": [
    "import pandas as pd\n",
    "\n",
    "df = pd.read_csv('csv/okt_over10.csv')\n",
    "counts = df['job'].value_counts()\n",
    "under10 = counts[counts<10].index\n",
    "df = df.drop(df[df['job'].isin(under10)].index)\n",
    "\n",
    "df.to_csv('csv/okt_company_job_over10.csv',index=False, encoding='UTF-8')"
   ]
  },
  {
   "cell_type": "code",
   "execution_count": 14,
   "metadata": {},
   "outputs": [],
   "source": [
    "# 회사, 직무 10개 미만 자르기 함수\n",
    "import pandas as pd\n",
    "\n",
    "df = pd.read_csv('csv/okt_company_job_over10.csv')\n",
    "\n",
    "# 기업별로 데이터 갯수를 계산\n",
    "company_counts = df.groupby('job').size().sort_values(ascending=False)\n",
    "\n",
    "\n",
    "with open('job_counts.txt', 'w') as f:\n",
    "    for index, count in company_counts.items():\n",
    "        f.write(f'{index}: {count}\\n')\n",
    "\n"
   ]
  },
  {
   "cell_type": "code",
   "execution_count": null,
   "metadata": {},
   "outputs": [],
   "source": []
  }
 ],
 "metadata": {
  "kernelspec": {
   "display_name": "study",
   "language": "python",
   "name": "python3"
  },
  "language_info": {
   "codemirror_mode": {
    "name": "ipython",
    "version": 3
   },
   "file_extension": ".py",
   "mimetype": "text/x-python",
   "name": "python",
   "nbconvert_exporter": "python",
   "pygments_lexer": "ipython3",
   "version": "3.10.9"
  },
  "orig_nbformat": 4
 },
 "nbformat": 4,
 "nbformat_minor": 2
}
