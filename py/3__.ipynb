{
 "cells": [
  {
   "cell_type": "code",
   "execution_count": 1,
   "id": "597b9906",
   "metadata": {},
   "outputs": [],
   "source": [
    "import pandas as pd"
   ]
  },
  {
   "cell_type": "code",
   "execution_count": 150,
   "id": "1f555626",
   "metadata": {},
   "outputs": [],
   "source": [
    "df = pd.read_csv('../data/jobkorea.csv', encoding='utf-8')"
   ]
  },
  {
   "cell_type": "code",
   "execution_count": 151,
   "id": "64657bcc",
   "metadata": {},
   "outputs": [],
   "source": [
    "keywords = ['희망', '입사', '이유', '지원', '동기', \n",
    "            '지원동기', '지원 동기', '기준', '일하고 싶은', \n",
    "            '해보고 싶은']\n",
    "df['지원동기'] = df['question'].apply(lambda x: 1 if any(keyword in x for keyword in keywords) else 0)\n",
    "\n",
    "keywords = ['비전', '비젼','기여', '포부', '입사후 포부', \n",
    "            '목표', '어떤 일','발전 방향', '10년', '5년', \n",
    "            '입사 후', '계획', '희망직무', '시나리오', '공헌']\n",
    "df['입사 후 포부'] = df['question'].apply(lambda x: 1 if any(keyword in x for keyword in keywords) else 0)\n",
    "\n",
    "keywords = ['살아오면서', '학창생활', '학창 시절', '학창생활', \n",
    "            '생활 신조','살아오면서', '대학생활', '학창시절', \n",
    "            '가족', '영향을 끼친', '생활신조', '본인', '슬로건', \n",
    "            '성장과정', '성장배경', '존경', '가치관', '기억에 남는', '성장배경', '성장', '좌우명', '성장 과정']\n",
    "df['성장과정'] = df['question'].apply(lambda x: 1 if any(keyword in x for keyword in keywords) else 0)\n",
    "\n",
    "keywords = ['장,단점', '장.단점', '장/단점', '보완점', '강약점', \n",
    "            '성격', '강점', '장점' , '장단점', '성향']\n",
    "df['성격 장단점'] = df['question'].apply(lambda x: 1 if any(keyword in x for keyword in keywords) else 0)\n",
    "\n",
    "keywords = ['전공 과목', '전공과목', '수강', '능력', '전공', '기술', \n",
    "            '직무', '준비', '역량', '지식', '재능', '노력', '경쟁력', \n",
    "            '경력', '이력', '내역','인재', '전문성', '차별화', '채용']\n",
    "df['직무역량'] = df['question'].apply(lambda x: 1 if any(keyword in x for keyword in keywords) else 0)\n",
    "\n",
    "keywords = ['문제의식', '성공적', '프로젝트', '극복', '사례', '도전', \n",
    "            '열정', '위기 극복', '열정', '갈등', '해결', '개선', '어려웠던 경험',\n",
    "            '경험', '극복경험','실패', '실행', '성취', '개선', '방법', '선택']\n",
    "df['성취경험'] = df['question'].apply(lambda x: 1 if any(keyword in x for keyword in keywords) else 0)\n",
    "\n",
    "keywords = ['사회생활', '교내외 활동', '교내외활동','사회봉사활동', '교내 활동', \n",
    "            '학교생활', '대외활동', '대화', '사회활동', '협업', '지도력', '추진력',\n",
    "            '협의', '설득', '역할', '조직', '리더십', '직장생활', '타인', '공동',\n",
    "            '팀', '소통', '동아리']\n",
    "df['협력경험'] = df['question'].apply(lambda x: 1 if any(keyword in x for keyword in keywords) else 0)\n",
    "\n",
    "keywords = ['비젼', '비전', '목표', '삶', '인생', '가치관']\n",
    "df['인생목표'] = df['question'].apply(lambda x: 1 if any(keyword in x for keyword in keywords) else 0)\n",
    "\n",
    "keywords = ['갈등', '갈등상황', '중재']\n",
    "df['갈등경험'] = df['question'].apply(lambda x: 1 if any(keyword in x for keyword in keywords) else 0)\n",
    "\n",
    "keywords = ['설명할', '상징단어', '단어', '소개', '관심사', '취미', '특기', \n",
    "            '평가', '표현', '자기 소개', '별명', 'PR', '좋아하는', '자기소개', \n",
    "            '자유 양식', '자기소개서', '자유양식', '비유', '책', '도서추천']\n",
    "df['자기소개'] = df['question'].apply(lambda x: 1 if any(keyword in x for keyword in keywords) else 0)\n",
    "\n",
    "keywords = ['방문', '개발언어', '이미지', '설명', '정의', '무엇이라고', '제시', \n",
    "            '발전', '제안', '제언', '견해', '이슈']\n",
    "df['직무 및 기업 이해도'] = df['question'].apply(lambda x: 1 if any(keyword in x for keyword in keywords) else 0)\n",
    "\n",
    "keywords = ['하고싶은 말', '소중하게','하고 싶은 말','의미 있는 시간', \n",
    "            '추가적', '기타', '어필', '특기사항', '비유']\n",
    "df['기타'] = df['question'].apply(lambda x: 1 if any(keyword in x for keyword in keywords) else 0)"
   ]
  },
  {
   "cell_type": "code",
   "execution_count": 152,
   "id": "8f747e8b",
   "metadata": {},
   "outputs": [],
   "source": [
    "df['total'] = df['지원동기'] + df['입사 후 포부'] + df['성장과정'] + df['성격 장단점'] + df['직무역량'] + df['성취경험'] + df['협력경험'] + df['인생목표'] + df['갈등경험'] + df['자기소개'] + df['직무 및 기업 이해도'] + df['기타']"
   ]
  },
  {
   "cell_type": "code",
   "execution_count": 154,
   "id": "fcc2f989",
   "metadata": {},
   "outputs": [],
   "source": [
    "for i in range(len(df)):\n",
    "    if df.loc[i, 'total'] == 0:\n",
    "        df.loc[i, '기타'] = 1"
   ]
  },
  {
   "cell_type": "code",
   "execution_count": 155,
   "id": "c7ce6f49",
   "metadata": {},
   "outputs": [],
   "source": [
    "df['total'] = df['지원동기'] + df['입사 후 포부'] + df['성장과정'] + df['성격 장단점'] + df['직무역량'] + df['성취경험'] + df['협력경험'] + df['인생목표'] + df['갈등경험'] + df['자기소개'] + df['직무 및 기업 이해도'] + df['기타']"
   ]
  },
  {
   "cell_type": "code",
   "execution_count": 164,
   "id": "3e87aa03",
   "metadata": {},
   "outputs": [
    {
     "data": {
      "text/plain": [
       "Index(['지원동기', '입사 후 포부', '성장과정', '성격 장단점', '직무역량', '성취경험', '협력경험', '인생목표',\n",
       "       '갈등경험', '자기소개', '직무 및 기업 이해도', '기타', 'total'],\n",
       "      dtype='object')"
      ]
     },
     "execution_count": 164,
     "metadata": {},
     "output_type": "execute_result"
    }
   ],
   "source": [
    "df.columns[7:]"
   ]
  },
  {
   "cell_type": "code",
   "execution_count": 167,
   "id": "6a825866",
   "metadata": {},
   "outputs": [
    {
     "name": "stdout",
     "output_type": "stream",
     "text": [
      "지원동기 : 12520\n",
      "입사 후 포부 : 7196\n",
      "성장과정 : 12370\n",
      "성격 장단점 : 3190\n",
      "직무역량 : 17949\n",
      "성취경험 : 13864\n",
      "협력경험 : 4361\n",
      "인생목표 : 3968\n",
      "갈등경험 : 461\n",
      "자기소개 : 2502\n",
      "직무 및 기업 이해도 : 3530\n",
      "기타 : 1136\n"
     ]
    }
   ],
   "source": [
    "# 문항 구분별 자기소개서 개수\n",
    "\n",
    "for i in df.columns[7:-1]:\n",
    "    print(f'{i} : {df[i].sum()}')"
   ]
  },
  {
   "cell_type": "code",
   "execution_count": null,
   "id": "fb9a620a",
   "metadata": {},
   "outputs": [],
   "source": []
  }
 ],
 "metadata": {
  "kernelspec": {
   "display_name": "Python 3 (ipykernel)",
   "language": "python",
   "name": "python3"
  },
  "language_info": {
   "codemirror_mode": {
    "name": "ipython",
    "version": 3
   },
   "file_extension": ".py",
   "mimetype": "text/x-python",
   "name": "python",
   "nbconvert_exporter": "python",
   "pygments_lexer": "ipython3",
   "version": "3.9.16"
  },
  "toc": {
   "base_numbering": 1,
   "nav_menu": {},
   "number_sections": true,
   "sideBar": true,
   "skip_h1_title": false,
   "title_cell": "Table of Contents",
   "title_sidebar": "Contents",
   "toc_cell": false,
   "toc_position": {},
   "toc_section_display": true,
   "toc_window_display": false
  }
 },
 "nbformat": 4,
 "nbformat_minor": 5
}
